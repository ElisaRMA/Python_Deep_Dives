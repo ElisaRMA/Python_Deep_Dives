{
 "cells": [
  {
   "cell_type": "markdown",
   "metadata": {},
   "source": [
    "# Refresher"
   ]
  },
  {
   "cell_type": "markdown",
   "metadata": {
    "vscode": {
     "languageId": "plaintext"
    }
   },
   "source": [
    "## Multi-Line Statements and Strings\n"
   ]
  },
  {
   "cell_type": "code",
   "execution_count": 1,
   "metadata": {},
   "outputs": [
    {
     "name": "stdout",
     "output_type": "stream",
     "text": [
      "yes!!\n"
     ]
    }
   ],
   "source": [
    "# We can have implicit ways to setup a newline on the code or explicit examples\n",
    "\n",
    "# Implicit examples:\n",
    "\n",
    "a = [1,\n",
    "    2,\n",
    "    3]\n",
    "\n",
    "# Explicit examples:\n",
    "\n",
    "a = 10\n",
    "b = 20\n",
    "c = 30\n",
    "if a > 5 \\\n",
    "    and b > 10 \\\n",
    "    and c > 20:\n",
    "    print('yes!!')"
   ]
  },
  {
   "cell_type": "code",
   "execution_count": 3,
   "metadata": {},
   "outputs": [
    {
     "name": "stdout",
     "output_type": "stream",
     "text": [
      "this is\n",
      "a multi-line string\n",
      "-----\n",
      "some items:\n",
      "\n",
      "    1. item 1\n",
      "    2. item 2\n"
     ]
    }
   ],
   "source": [
    "# We can also apply this to multiline statements\n",
    "\n",
    "# Here, as we move to a newline, this is kept when printing the string\n",
    "a = '''this is\n",
    "a multi-line string'''\n",
    "\n",
    "# or when we explicitly add a newline character\n",
    "b = \"\"\"some items:\\n\n",
    "    1. item 1\n",
    "    2. item 2\"\"\"\n",
    "\n",
    "print(a)\n",
    "print('-----')\n",
    "print(b)"
   ]
  },
  {
   "cell_type": "markdown",
   "metadata": {},
   "source": [
    "## Conditionals"
   ]
  },
  {
   "cell_type": "code",
   "execution_count": 4,
   "metadata": {},
   "outputs": [
    {
     "name": "stdout",
     "output_type": "stream",
     "text": [
      "a >= 10\n"
     ]
    }
   ],
   "source": [
    "\n",
    "# A conditional is a construct that allows you to branch your code based on conditions being met (or not)\n",
    "# This is achieved using if, elif and else or the ternary operator (aka conditional expression)\n",
    "\n",
    "# This is a regular conditional code\n",
    "a = 15\n",
    "if a < 5:\n",
    "    print('a < 5')\n",
    "elif a < 10:\n",
    "    print('5 <= a < 10')\n",
    "else:\n",
    "    print('a >= 10')"
   ]
  },
  {
   "cell_type": "code",
   "execution_count": 5,
   "metadata": {},
   "outputs": [
    {
     "name": "stdout",
     "output_type": "stream",
     "text": [
      "a < 10\n"
     ]
    }
   ],
   "source": [
    "# This is a ternary operation, all in one line\n",
    "a = 5\n",
    "res = 'a < 10' if a < 10 else 'a >= 10'\n",
    "print(res)"
   ]
  },
  {
   "cell_type": "code",
   "execution_count": 6,
   "metadata": {},
   "outputs": [
    {
     "name": "stdout",
     "output_type": "stream",
     "text": [
      "Hello!\n"
     ]
    }
   ],
   "source": [
    "# The results of the conditionals can actually be anything, not just strings\n",
    "\n",
    "def say_hello():\n",
    "    print('Hello!')\n",
    "    \n",
    "def say_goodbye():\n",
    "    print('Goodbye!')\n",
    "\n",
    "a = 5\n",
    "say_hello() if a < 10 else say_goodbye()"
   ]
  },
  {
   "cell_type": "markdown",
   "metadata": {},
   "source": [
    "## Functions"
   ]
  },
  {
   "cell_type": "code",
   "execution_count": 7,
   "metadata": {},
   "outputs": [
    {
     "name": "stdout",
     "output_type": "stream",
     "text": [
      "3\n",
      "----\n",
      "2.0\n",
      "----\n",
      "running func1\n"
     ]
    }
   ],
   "source": [
    "# Python has many built-in functions and methods we can use\n",
    "\n",
    "# Some are available by default:\n",
    "s = [1, 2, 3]\n",
    "\n",
    "print(len(s))\n",
    "print('----')\n",
    "# Some we need to import\n",
    "from math import sqrt\n",
    "\n",
    "print(sqrt(4))\n",
    "print('----')\n",
    "\n",
    "# and others, we need to define ourselves\n",
    "def func_1():\n",
    "    print('running func1')\n",
    "\n",
    "func_1()"
   ]
  },
  {
   "cell_type": "code",
   "execution_count": 8,
   "metadata": {},
   "outputs": [
    {
     "data": {
      "text/plain": [
       "<function __main__.func_1()>"
      ]
     },
     "execution_count": 8,
     "metadata": {},
     "output_type": "execute_result"
    }
   ],
   "source": [
    "#To invoke a function we need to call it properly. This way, we just refer to the function but we don't call it\n",
    "\n",
    "func_1"
   ]
  },
  {
   "cell_type": "code",
   "execution_count": null,
   "metadata": {},
   "outputs": [],
   "source": [
    "# To define a function, the def keyword must be used\n",
    "# The def keyword is an executable piece of code that creates the function (an instance of the function class) \n",
    "# and essentially assigns it to a variable name (the function name).\n",
    "# Note that the function is defined when def is reached, but the code inside it is not evaluated until the function is called.\n",
    "# This is why we can define functions that call other functions defined later - as long as we don't call them \n",
    "# before all the necessary functions are defined."
   ]
  },
  {
   "cell_type": "code",
   "execution_count": 9,
   "metadata": {},
   "outputs": [
    {
     "data": {
      "text/plain": [
       "6"
      ]
     },
     "execution_count": 9,
     "metadata": {},
     "output_type": "execute_result"
    }
   ],
   "source": [
    "# We can define parameters for functions\n",
    "\n",
    "def func_2(a, b):\n",
    "    return a * b\n",
    "\n",
    "func_2(3, 2)"
   ]
  },
  {
   "cell_type": "code",
   "execution_count": 10,
   "metadata": {},
   "outputs": [
    {
     "data": {
      "text/plain": [
       "'aaa'"
      ]
     },
     "execution_count": 10,
     "metadata": {},
     "output_type": "execute_result"
    }
   ],
   "source": [
    "# but depending on what is provided, the function might not act as expected\n",
    "func_2('a', 3)"
   ]
  },
  {
   "cell_type": "code",
   "execution_count": null,
   "metadata": {},
   "outputs": [],
   "source": [
    "# To help, we can type data anottations\n",
    "def func_3(a: int, b:int):\n",
    "    return a * b\n",
    "\n",
    "# But his does not enforces anything:\n",
    "func_3('a', 2)\n",
    "\n",
    "# You can also create, with multiple linestrings, a documentation for the function\n",
    "def func_3(a: int, b:int):\n",
    "    \"\"\" multiplies values \"\"\"\n",
    "    return a * b"
   ]
  },
  {
   "cell_type": "code",
   "execution_count": 11,
   "metadata": {},
   "outputs": [],
   "source": [
    "# A function must also aways return something\n",
    "def func_3(a: int, b:int):\n",
    "    \"\"\" multiplies values but it does not return it \"\"\"\n",
    "    a * b\n",
    "\n",
    "func_3(3,3)"
   ]
  },
  {
   "cell_type": "markdown",
   "metadata": {},
   "source": [
    "## While Loop"
   ]
  },
  {
   "cell_type": "code",
   "execution_count": 12,
   "metadata": {},
   "outputs": [
    {
     "name": "stdout",
     "output_type": "stream",
     "text": [
      "0\n",
      "1\n",
      "2\n",
      "3\n",
      "4\n"
     ]
    }
   ],
   "source": [
    "# Its something that repeats a code of block as long as the condition is true\n",
    "# THIS CAN CAUSE AN INFINITE LOOP\n",
    "\n",
    "# You are not guaranteed that the code inside the while loop are going to run\n",
    "i=0\n",
    "while i<5:\n",
    "    print(i)\n",
    "    # the sum prevents the loop to be eternal\n",
    "    i+=1"
   ]
  },
  {
   "cell_type": "code",
   "execution_count": 13,
   "metadata": {},
   "outputs": [
    {
     "name": "stdout",
     "output_type": "stream",
     "text": [
      "5\n"
     ]
    }
   ],
   "source": [
    "# Sometimes though, you need this to run at least once. Other languages have this, but python does not\n",
    "i=5\n",
    "\n",
    "# whatever comes inside it, WILL run. But this is an infinite while loop.\n",
    "while True:\n",
    "    print(i)\n",
    "    if i>=5:\n",
    "        break # This break will make sure this code does not keep running forever"
   ]
  },
  {
   "cell_type": "markdown",
   "metadata": {},
   "source": [
    "## Break continue and try"
   ]
  },
  {
   "cell_type": "code",
   "execution_count": 15,
   "metadata": {},
   "outputs": [
    {
     "name": "stdout",
     "output_type": "stream",
     "text": [
      "div by zero\n",
      "this always runs\n"
     ]
    }
   ],
   "source": [
    "# try... except ... finally\n",
    "\n",
    "a = 10\n",
    "b = 0\n",
    "\n",
    "try:\n",
    "    a/b\n",
    "except ZeroDivisionError:\n",
    "    print('div by zero')\n",
    "finally:\n",
    "    print('this always runs')"
   ]
  },
  {
   "cell_type": "code",
   "execution_count": 18,
   "metadata": {},
   "outputs": [
    {
     "name": "stdout",
     "output_type": "stream",
     "text": [
      "--------------\n",
      "a:1, b:1 - this always runs\n",
      "a:1, b:1 - main loop\n",
      "--------------\n",
      "div by zero: a:2, b:0\n",
      "a:2, b:0 - this always runs\n",
      "--------------\n",
      "a:3, b:-1 - this always runs\n",
      "a:3, b:-1 - main loop\n",
      "--------------\n",
      "a:4, b:-2 - this always runs\n",
      "a:4, b:-2 - main loop\n"
     ]
    }
   ],
   "source": [
    "a = 0\n",
    "b = 2\n",
    "\n",
    "while a < 4: # will run 3 times as we increment a\n",
    "    print('--------------')\n",
    "    a += 1 # increment a\n",
    "    b -= 1 # decrement b -> eventually becames 0\n",
    "    try:\n",
    "        a/b\n",
    "    except ZeroDivisionError: # catch the error you want, explicitly\n",
    "        print(f'div by zero: a:{a}, b:{b}')\n",
    "        continue # will go back to the beggining of the loop \n",
    "    \n",
    "    finally: # will always execute, even with a continue\n",
    "        print(f'a:{a}, b:{b} - this always runs')\n",
    "\n",
    "    print(f'a:{a}, b:{b} - main loop')"
   ]
  },
  {
   "cell_type": "code",
   "execution_count": 19,
   "metadata": {},
   "outputs": [
    {
     "name": "stdout",
     "output_type": "stream",
     "text": [
      "--------------\n",
      "a:1, b:1 - this always runs\n",
      "a:1, b:1 - main loop\n",
      "--------------\n",
      "div by zero: a:2, b:0\n",
      "a:2, b:0 - this always runs\n"
     ]
    }
   ],
   "source": [
    "a = 0\n",
    "b = 2\n",
    "\n",
    "while a < 4: # will run 3 times as we increment a\n",
    "    print('--------------')\n",
    "    a += 1 # increment a\n",
    "    b -= 1 # decrement b -> eventually becames 0\n",
    "    try:\n",
    "        a/b\n",
    "    except ZeroDivisionError: # catch the error you want, explicitly\n",
    "        print(f'div by zero: a:{a}, b:{b}')\n",
    "        break # will break and stop the while loop\n",
    "    \n",
    "    finally: # will always execute, even with a break \n",
    "        print(f'a:{a}, b:{b} - this always runs')\n",
    "\n",
    "    print(f'a:{a}, b:{b} - main loop')"
   ]
  },
  {
   "cell_type": "code",
   "execution_count": 24,
   "metadata": {},
   "outputs": [
    {
     "name": "stdout",
     "output_type": "stream",
     "text": [
      "--------------\n",
      "a:1, b:4 - this always runs\n",
      "a:1, b:4 - main loop\n",
      "--------------\n",
      "a:2, b:3 - this always runs\n",
      "a:2, b:3 - main loop\n",
      "--------------\n",
      "a:3, b:2 - this always runs\n",
      "a:3, b:2 - main loop\n",
      "--------------\n",
      "a:4, b:1 - this always runs\n",
      "a:4, b:1 - main loop\n",
      "\n",
      "------ never got exception ------\n"
     ]
    }
   ],
   "source": [
    "# you can also combine this with the else\n",
    "\n",
    "a = 0\n",
    "b = 5\n",
    "\n",
    "while a < 4: # will run 3 times as we increment a\n",
    "    print('--------------')\n",
    "    a += 1 # increment a\n",
    "    b -= 1 # decrement b -> eventually becames 0\n",
    "    try:\n",
    "        a/b\n",
    "    except ZeroDivisionError: # catch the error you want, explicitly\n",
    "        print(f'div by zero: a:{a}, b:{b}')\n",
    "        break # will break and stop the while loop, if we get the exception\n",
    "    \n",
    "    finally: # will always execute, even with a break \n",
    "        print(f'a:{a}, b:{b} - this always runs')\n",
    "\n",
    "    print(f'a:{a}, b:{b} - main loop')\n",
    "\n",
    "else: # will execute if the except is NEVER encountered\n",
    "    print()\n",
    "    print('------ never got exception ------')"
   ]
  },
  {
   "cell_type": "markdown",
   "metadata": {},
   "source": [
    "## For Loop\n",
    "\n",
    "\n",
    "In Python, an iterable is an object capable of returning values one at a time.\n",
    "\n",
    "Many objects in Python are iterable: lists, strings, file objects and many more.\n",
    "\n",
    "Note: Our definition of an iterable did not state it was a collection of values - we only said it is an object that can return values one at a time - that's a subtle difference that we'll examine when we look into iterators and generators.\n",
    "\n",
    "The `for` keyword can be used to iterate an iterable.\n",
    "\n",
    "For other programming languages you have probably seen for loops defined this way:\n",
    "\n",
    "```for (int i=0; i < 5; i++) {     //code block }```\n",
    "\n",
    "For python we don't have a for loop like this. But this form of the for loop is simply a repetition, very similar to a while loop\n",
    "\n",
    "In fact it is equivalent to what we could write in Python as follows:\n"
   ]
  },
  {
   "cell_type": "code",
   "execution_count": 25,
   "metadata": {},
   "outputs": [
    {
     "name": "stdout",
     "output_type": "stream",
     "text": [
      "0\n",
      "1\n",
      "2\n",
      "3\n",
      "4\n"
     ]
    }
   ],
   "source": [
    "i = 0\n",
    "\n",
    "while i < 5:\n",
    "    print(i)\n",
    "    i+=1 # i will get out of scope\n",
    "i=None "
   ]
  },
  {
   "cell_type": "markdown",
   "metadata": {},
   "source": [
    "\n",
    "\n",
    "But that's NOT what the for statement does in Python - the for statement is a way to iterate over iterables, and has nothing to do with the for loop we just saw. The closest equivalent we have in Python is the while loop written as above.\n",
    "\n",
    "To use the for loop in Python, we require an iterable object to work with.\n",
    "\n",
    "A simple iterable object is generated via the `range()` function\n"
   ]
  },
  {
   "cell_type": "code",
   "execution_count": 29,
   "metadata": {},
   "outputs": [
    {
     "name": "stdout",
     "output_type": "stream",
     "text": [
      "0\n",
      "1\n",
      "2\n",
      "3\n",
      "4\n",
      "------------\n",
      "1\n",
      "2\n",
      "3\n"
     ]
    }
   ],
   "source": [
    "for i in range(5):\n",
    "    print(i)\n",
    "\n",
    "print('------------')\n",
    "\n",
    "# multiple things are iterable\n",
    "for x in [1, 2, 3]:\n",
    "    print(x)\n",
    "\n",
    "# So, iterables we got on python: range(), lists, strings, tuples, sets, dictionaries, enumerate()\n",
    "# OBS: sets and dictionaries do not have a sequencem there is no first and last element"
   ]
  },
  {
   "cell_type": "code",
   "execution_count": 31,
   "metadata": {},
   "outputs": [
    {
     "name": "stdout",
     "output_type": "stream",
     "text": [
      "1 2\n",
      "3 4\n"
     ]
    }
   ],
   "source": [
    "# break and continue work the same\n",
    "for i, j in [(1,2),(3,4),(5,6)]:\n",
    "    if i == 5:\n",
    "        break\n",
    "    print(i,j)"
   ]
  }
 ],
 "metadata": {
  "kernelspec": {
   "display_name": "base",
   "language": "python",
   "name": "python3"
  },
  "language_info": {
   "codemirror_mode": {
    "name": "ipython",
    "version": 3
   },
   "file_extension": ".py",
   "mimetype": "text/x-python",
   "name": "python",
   "nbconvert_exporter": "python",
   "pygments_lexer": "ipython3",
   "version": "3.9.16"
  }
 },
 "nbformat": 4,
 "nbformat_minor": 2
}
